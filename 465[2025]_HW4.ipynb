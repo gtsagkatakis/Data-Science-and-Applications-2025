{
  "nbformat": 4,
  "nbformat_minor": 0,
  "metadata": {
    "colab": {
      "provenance": [],
      "toc_visible": true
    },
    "kernelspec": {
      "name": "python3",
      "display_name": "Python 3"
    },
    "language_info": {
      "name": "python"
    }
  },
  "cells": [
    {
      "cell_type": "code",
      "execution_count": 2,
      "metadata": {
        "id": "sbodAP-w535A"
      },
      "outputs": [],
      "source": [
        "import numpy as np\n",
        "import pandas as pd\n",
        "import matplotlib.pyplot as plt\n",
        "import seaborn as sns\n",
        "from sklearn.datasets import load_diabetes\n",
        "from sklearn.preprocessing import StandardScaler\n",
        "from sklearn.decomposition import PCA\n",
        "from sklearn.model_selection import train_test_split\n",
        "from sklearn.linear_model import LinearRegression\n",
        "from sklearn.metrics import r2_score"
      ]
    },
    {
      "cell_type": "markdown",
      "source": [
        "## Load the Diabetes dataset (hint: convert it into Pandas DataFrame for better analysis)"
      ],
      "metadata": {
        "id": "p49QRjfhCOuX"
      }
    },
    {
      "cell_type": "code",
      "source": [
        "# Load the Diabetes dataset\n",
        "diabetes = load_diabetes(as_frame=True)\n",
        "\n",
        "# Convert into Pandas DataFrame"
      ],
      "metadata": {
        "id": "ex5Y6baiCLZg"
      },
      "execution_count": 3,
      "outputs": []
    },
    {
      "cell_type": "markdown",
      "source": [
        "### Display first few rows"
      ],
      "metadata": {
        "id": "kSgrRuRfKH-u"
      }
    },
    {
      "cell_type": "code",
      "source": [],
      "metadata": {
        "id": "DkwTod_VCVp5"
      },
      "execution_count": null,
      "outputs": []
    },
    {
      "cell_type": "markdown",
      "source": [
        "## Visualize the data (i.e. histograms, heatmaps etc)"
      ],
      "metadata": {
        "id": "TmCGRKxzKM5m"
      }
    },
    {
      "cell_type": "code",
      "source": [],
      "metadata": {
        "id": "WvJW8ZaYLQAw"
      },
      "execution_count": null,
      "outputs": []
    },
    {
      "cell_type": "markdown",
      "source": [
        "## Standardize the features"
      ],
      "metadata": {
        "id": "TMo-WrgVLQxn"
      }
    },
    {
      "cell_type": "markdown",
      "source": [
        "### Visualize the standardized data\n",
        "\n",
        "What do you observe?"
      ],
      "metadata": {
        "id": "msR3ZCXdLYY3"
      }
    },
    {
      "cell_type": "markdown",
      "source": [
        "## Apply PCA"
      ],
      "metadata": {
        "id": "h2NcV9hRLkbo"
      }
    },
    {
      "cell_type": "code",
      "source": [],
      "metadata": {
        "id": "0-AdUqylLm9g"
      },
      "execution_count": null,
      "outputs": []
    },
    {
      "cell_type": "markdown",
      "source": [
        "## Plot the explained variance"
      ],
      "metadata": {
        "id": "-myvYw1mLn0o"
      }
    },
    {
      "cell_type": "code",
      "source": [],
      "metadata": {
        "id": "tCufrh5RLncw"
      },
      "execution_count": null,
      "outputs": []
    },
    {
      "cell_type": "markdown",
      "source": [
        "## Choose the optimal number of components\n",
        "\n",
        "Why did you select this number?"
      ],
      "metadata": {
        "id": "G1Z9S4_tLulw"
      }
    },
    {
      "cell_type": "code",
      "source": [],
      "metadata": {
        "id": "xIeXuq74MH5A"
      },
      "execution_count": null,
      "outputs": []
    },
    {
      "cell_type": "markdown",
      "source": [
        "## Perform Regression using the original data"
      ],
      "metadata": {
        "id": "XxaqL5OCQXlF"
      }
    },
    {
      "cell_type": "code",
      "source": [],
      "metadata": {
        "id": "C8H1VDo_QeoN"
      },
      "execution_count": null,
      "outputs": []
    },
    {
      "cell_type": "markdown",
      "source": [
        "## Perform regression using the PCA-transformed data"
      ],
      "metadata": {
        "id": "qvGq7CB_Qe7l"
      }
    },
    {
      "cell_type": "code",
      "source": [],
      "metadata": {
        "id": "aylBRwgsQmmV"
      },
      "execution_count": null,
      "outputs": []
    },
    {
      "cell_type": "markdown",
      "source": [
        "## Display the results"
      ],
      "metadata": {
        "id": "evWU0iP7Qm8F"
      }
    },
    {
      "cell_type": "code",
      "source": [],
      "metadata": {
        "id": "HQxoupCkQtKl"
      },
      "execution_count": null,
      "outputs": []
    },
    {
      "cell_type": "markdown",
      "source": [
        "## Principal Component Interpretation\n",
        "\n",
        "Analyze the PCA components to understand which original features contribute most to each principal component (hint: use *pca_optimal.components_* )"
      ],
      "metadata": {
        "id": "FXyjZaV1SYwQ"
      }
    },
    {
      "cell_type": "code",
      "source": [],
      "metadata": {
        "id": "pli3NkGZTGF_"
      },
      "execution_count": null,
      "outputs": []
    },
    {
      "cell_type": "markdown",
      "source": [
        "### Visualize components weights (heatmap)"
      ],
      "metadata": {
        "id": "_99HzatWTGVH"
      }
    },
    {
      "cell_type": "code",
      "source": [],
      "metadata": {
        "id": "AWadQUzlTHPY"
      },
      "execution_count": null,
      "outputs": []
    },
    {
      "cell_type": "markdown",
      "source": [
        "**Questions:**\n",
        "\n",
        "\n",
        "*   How does PCA impact regression performance?\n",
        "*   Compare the results: Does reducing dimensionality improve or worsen the prediction accuracy?\n",
        "* Would you recommend using PCA before regression on this dataset? Why or why not?\n",
        "\n"
      ],
      "metadata": {
        "id": "6i8o62fEQtfl"
      }
    }
  ]
}