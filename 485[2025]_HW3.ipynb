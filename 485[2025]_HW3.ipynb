{
  "nbformat": 4,
  "nbformat_minor": 0,
  "metadata": {
    "colab": {
      "provenance": []
    },
    "kernelspec": {
      "name": "python3",
      "display_name": "Python 3"
    },
    "language_info": {
      "name": "python"
    }
  },
  "cells": [
    {
      "cell_type": "markdown",
      "source": [
        "# CS485 - Data Science and Applications\n",
        "\n",
        "  **Homework 3**\n",
        "\n",
        "  Feel free to ignore the already implemented code and use your own."
      ],
      "metadata": {
        "id": "nZQImo7LvGY5"
      }
    },
    {
      "cell_type": "markdown",
      "source": [
        "# Part a: Exploratory Data Analysis on traffic stop data"
      ],
      "metadata": {
        "id": "qt53wPp7wAxa"
      }
    },
    {
      "cell_type": "markdown",
      "source": [
        "The following data are collected by Hatford CT police from October 2013 to September 2016"
      ],
      "metadata": {
        "id": "3gRLNDbewFkq"
      }
    },
    {
      "cell_type": "code",
      "execution_count": 1,
      "metadata": {
        "colab": {
          "base_uri": "https://localhost:8080/",
          "height": 394
        },
        "id": "ZtI-jWIbvAXV",
        "outputId": "45c3d00a-6c78-499c-d260-ab007756e9aa"
      },
      "outputs": [
        {
          "output_type": "execute_result",
          "data": {
            "text/plain": [
              "  raw_row_number        date      time                        location  \\\n",
              "0              1  2013-10-13  15:21:00            LINNMORE ST AT ROGER   \n",
              "1              2  2013-10-24  01:12:00  HAWTHORN STREET @ IMLAY STREET   \n",
              "2              3  2013-10-26  10:06:00                NEW PARK MIRRILL   \n",
              "3              4  2013-10-26  18:06:00         nfew park at merrill st   \n",
              "4              5  2013-10-26  19:56:00            SUMMIT ST AT ZION ST   \n",
              "\n",
              "         lat        lng     district  subject_age subject_race subject_sex  \\\n",
              "0  41.732189 -72.699760   SOUTH WEST         38.0     hispanic      female   \n",
              "1  41.764621 -72.695362  ASYLUM HILL         20.0        black        male   \n",
              "2  41.747837 -72.712933    PARKVILLE         26.0        white      female   \n",
              "3  41.748069 -72.712641    PARKVILLE         26.0        white      female   \n",
              "4  41.753945 -72.693278  FROG HOLLOW         39.0        white        male   \n",
              "\n",
              "   ...   outcome contraband_found search_conducted search_vehicle  \\\n",
              "0  ...  citation              NaN            False          False   \n",
              "1  ...  citation              NaN            False          False   \n",
              "2  ...  citation              NaN            False          False   \n",
              "3  ...  citation              NaN            False          False   \n",
              "4  ...  citation              NaN            False          False   \n",
              "\n",
              "   search_basis         reason_for_stop raw_subject_race_code  \\\n",
              "0           NaN               Stop Sign                     W   \n",
              "1           NaN        Defective Lights                     B   \n",
              "2           NaN  Traffic Control Signal                     W   \n",
              "3           NaN  Traffic Control Signal                     W   \n",
              "4           NaN               Stop Sign                     W   \n",
              "\n",
              "  raw_subject_ethnicity_code  raw_search_authorization_code  \\\n",
              "0                          H                              N   \n",
              "1                          N                              N   \n",
              "2                          N                              N   \n",
              "3                          N                              N   \n",
              "4                          N                              N   \n",
              "\n",
              "  raw_intervention_disposition_code  \n",
              "0                                 I  \n",
              "1                                 I  \n",
              "2                                 I  \n",
              "3                                 I  \n",
              "4                                 I  \n",
              "\n",
              "[5 rows x 26 columns]"
            ],
            "text/html": [
              "\n",
              "  <div id=\"df-c50031a0-44c0-495f-8d55-d0d7ccbdebc9\" class=\"colab-df-container\">\n",
              "    <div>\n",
              "<style scoped>\n",
              "    .dataframe tbody tr th:only-of-type {\n",
              "        vertical-align: middle;\n",
              "    }\n",
              "\n",
              "    .dataframe tbody tr th {\n",
              "        vertical-align: top;\n",
              "    }\n",
              "\n",
              "    .dataframe thead th {\n",
              "        text-align: right;\n",
              "    }\n",
              "</style>\n",
              "<table border=\"1\" class=\"dataframe\">\n",
              "  <thead>\n",
              "    <tr style=\"text-align: right;\">\n",
              "      <th></th>\n",
              "      <th>raw_row_number</th>\n",
              "      <th>date</th>\n",
              "      <th>time</th>\n",
              "      <th>location</th>\n",
              "      <th>lat</th>\n",
              "      <th>lng</th>\n",
              "      <th>district</th>\n",
              "      <th>subject_age</th>\n",
              "      <th>subject_race</th>\n",
              "      <th>subject_sex</th>\n",
              "      <th>...</th>\n",
              "      <th>outcome</th>\n",
              "      <th>contraband_found</th>\n",
              "      <th>search_conducted</th>\n",
              "      <th>search_vehicle</th>\n",
              "      <th>search_basis</th>\n",
              "      <th>reason_for_stop</th>\n",
              "      <th>raw_subject_race_code</th>\n",
              "      <th>raw_subject_ethnicity_code</th>\n",
              "      <th>raw_search_authorization_code</th>\n",
              "      <th>raw_intervention_disposition_code</th>\n",
              "    </tr>\n",
              "  </thead>\n",
              "  <tbody>\n",
              "    <tr>\n",
              "      <th>0</th>\n",
              "      <td>1</td>\n",
              "      <td>2013-10-13</td>\n",
              "      <td>15:21:00</td>\n",
              "      <td>LINNMORE ST AT ROGER</td>\n",
              "      <td>41.732189</td>\n",
              "      <td>-72.699760</td>\n",
              "      <td>SOUTH WEST</td>\n",
              "      <td>38.0</td>\n",
              "      <td>hispanic</td>\n",
              "      <td>female</td>\n",
              "      <td>...</td>\n",
              "      <td>citation</td>\n",
              "      <td>NaN</td>\n",
              "      <td>False</td>\n",
              "      <td>False</td>\n",
              "      <td>NaN</td>\n",
              "      <td>Stop Sign</td>\n",
              "      <td>W</td>\n",
              "      <td>H</td>\n",
              "      <td>N</td>\n",
              "      <td>I</td>\n",
              "    </tr>\n",
              "    <tr>\n",
              "      <th>1</th>\n",
              "      <td>2</td>\n",
              "      <td>2013-10-24</td>\n",
              "      <td>01:12:00</td>\n",
              "      <td>HAWTHORN STREET @ IMLAY STREET</td>\n",
              "      <td>41.764621</td>\n",
              "      <td>-72.695362</td>\n",
              "      <td>ASYLUM HILL</td>\n",
              "      <td>20.0</td>\n",
              "      <td>black</td>\n",
              "      <td>male</td>\n",
              "      <td>...</td>\n",
              "      <td>citation</td>\n",
              "      <td>NaN</td>\n",
              "      <td>False</td>\n",
              "      <td>False</td>\n",
              "      <td>NaN</td>\n",
              "      <td>Defective Lights</td>\n",
              "      <td>B</td>\n",
              "      <td>N</td>\n",
              "      <td>N</td>\n",
              "      <td>I</td>\n",
              "    </tr>\n",
              "    <tr>\n",
              "      <th>2</th>\n",
              "      <td>3</td>\n",
              "      <td>2013-10-26</td>\n",
              "      <td>10:06:00</td>\n",
              "      <td>NEW PARK MIRRILL</td>\n",
              "      <td>41.747837</td>\n",
              "      <td>-72.712933</td>\n",
              "      <td>PARKVILLE</td>\n",
              "      <td>26.0</td>\n",
              "      <td>white</td>\n",
              "      <td>female</td>\n",
              "      <td>...</td>\n",
              "      <td>citation</td>\n",
              "      <td>NaN</td>\n",
              "      <td>False</td>\n",
              "      <td>False</td>\n",
              "      <td>NaN</td>\n",
              "      <td>Traffic Control Signal</td>\n",
              "      <td>W</td>\n",
              "      <td>N</td>\n",
              "      <td>N</td>\n",
              "      <td>I</td>\n",
              "    </tr>\n",
              "    <tr>\n",
              "      <th>3</th>\n",
              "      <td>4</td>\n",
              "      <td>2013-10-26</td>\n",
              "      <td>18:06:00</td>\n",
              "      <td>nfew park at merrill st</td>\n",
              "      <td>41.748069</td>\n",
              "      <td>-72.712641</td>\n",
              "      <td>PARKVILLE</td>\n",
              "      <td>26.0</td>\n",
              "      <td>white</td>\n",
              "      <td>female</td>\n",
              "      <td>...</td>\n",
              "      <td>citation</td>\n",
              "      <td>NaN</td>\n",
              "      <td>False</td>\n",
              "      <td>False</td>\n",
              "      <td>NaN</td>\n",
              "      <td>Traffic Control Signal</td>\n",
              "      <td>W</td>\n",
              "      <td>N</td>\n",
              "      <td>N</td>\n",
              "      <td>I</td>\n",
              "    </tr>\n",
              "    <tr>\n",
              "      <th>4</th>\n",
              "      <td>5</td>\n",
              "      <td>2013-10-26</td>\n",
              "      <td>19:56:00</td>\n",
              "      <td>SUMMIT ST AT ZION ST</td>\n",
              "      <td>41.753945</td>\n",
              "      <td>-72.693278</td>\n",
              "      <td>FROG HOLLOW</td>\n",
              "      <td>39.0</td>\n",
              "      <td>white</td>\n",
              "      <td>male</td>\n",
              "      <td>...</td>\n",
              "      <td>citation</td>\n",
              "      <td>NaN</td>\n",
              "      <td>False</td>\n",
              "      <td>False</td>\n",
              "      <td>NaN</td>\n",
              "      <td>Stop Sign</td>\n",
              "      <td>W</td>\n",
              "      <td>N</td>\n",
              "      <td>N</td>\n",
              "      <td>I</td>\n",
              "    </tr>\n",
              "  </tbody>\n",
              "</table>\n",
              "<p>5 rows × 26 columns</p>\n",
              "</div>\n",
              "    <div class=\"colab-df-buttons\">\n",
              "\n",
              "  <div class=\"colab-df-container\">\n",
              "    <button class=\"colab-df-convert\" onclick=\"convertToInteractive('df-c50031a0-44c0-495f-8d55-d0d7ccbdebc9')\"\n",
              "            title=\"Convert this dataframe to an interactive table.\"\n",
              "            style=\"display:none;\">\n",
              "\n",
              "  <svg xmlns=\"http://www.w3.org/2000/svg\" height=\"24px\" viewBox=\"0 -960 960 960\">\n",
              "    <path d=\"M120-120v-720h720v720H120Zm60-500h600v-160H180v160Zm220 220h160v-160H400v160Zm0 220h160v-160H400v160ZM180-400h160v-160H180v160Zm440 0h160v-160H620v160ZM180-180h160v-160H180v160Zm440 0h160v-160H620v160Z\"/>\n",
              "  </svg>\n",
              "    </button>\n",
              "\n",
              "  <style>\n",
              "    .colab-df-container {\n",
              "      display:flex;\n",
              "      gap: 12px;\n",
              "    }\n",
              "\n",
              "    .colab-df-convert {\n",
              "      background-color: #E8F0FE;\n",
              "      border: none;\n",
              "      border-radius: 50%;\n",
              "      cursor: pointer;\n",
              "      display: none;\n",
              "      fill: #1967D2;\n",
              "      height: 32px;\n",
              "      padding: 0 0 0 0;\n",
              "      width: 32px;\n",
              "    }\n",
              "\n",
              "    .colab-df-convert:hover {\n",
              "      background-color: #E2EBFA;\n",
              "      box-shadow: 0px 1px 2px rgba(60, 64, 67, 0.3), 0px 1px 3px 1px rgba(60, 64, 67, 0.15);\n",
              "      fill: #174EA6;\n",
              "    }\n",
              "\n",
              "    .colab-df-buttons div {\n",
              "      margin-bottom: 4px;\n",
              "    }\n",
              "\n",
              "    [theme=dark] .colab-df-convert {\n",
              "      background-color: #3B4455;\n",
              "      fill: #D2E3FC;\n",
              "    }\n",
              "\n",
              "    [theme=dark] .colab-df-convert:hover {\n",
              "      background-color: #434B5C;\n",
              "      box-shadow: 0px 1px 3px 1px rgba(0, 0, 0, 0.15);\n",
              "      filter: drop-shadow(0px 1px 2px rgba(0, 0, 0, 0.3));\n",
              "      fill: #FFFFFF;\n",
              "    }\n",
              "  </style>\n",
              "\n",
              "    <script>\n",
              "      const buttonEl =\n",
              "        document.querySelector('#df-c50031a0-44c0-495f-8d55-d0d7ccbdebc9 button.colab-df-convert');\n",
              "      buttonEl.style.display =\n",
              "        google.colab.kernel.accessAllowed ? 'block' : 'none';\n",
              "\n",
              "      async function convertToInteractive(key) {\n",
              "        const element = document.querySelector('#df-c50031a0-44c0-495f-8d55-d0d7ccbdebc9');\n",
              "        const dataTable =\n",
              "          await google.colab.kernel.invokeFunction('convertToInteractive',\n",
              "                                                    [key], {});\n",
              "        if (!dataTable) return;\n",
              "\n",
              "        const docLinkHtml = 'Like what you see? Visit the ' +\n",
              "          '<a target=\"_blank\" href=https://colab.research.google.com/notebooks/data_table.ipynb>data table notebook</a>'\n",
              "          + ' to learn more about interactive tables.';\n",
              "        element.innerHTML = '';\n",
              "        dataTable['output_type'] = 'display_data';\n",
              "        await google.colab.output.renderOutput(dataTable, element);\n",
              "        const docLink = document.createElement('div');\n",
              "        docLink.innerHTML = docLinkHtml;\n",
              "        element.appendChild(docLink);\n",
              "      }\n",
              "    </script>\n",
              "  </div>\n",
              "\n",
              "\n",
              "<div id=\"df-ee3888ec-6cd5-4cfd-b590-b58e0216673a\">\n",
              "  <button class=\"colab-df-quickchart\" onclick=\"quickchart('df-ee3888ec-6cd5-4cfd-b590-b58e0216673a')\"\n",
              "            title=\"Suggest charts\"\n",
              "            style=\"display:none;\">\n",
              "\n",
              "<svg xmlns=\"http://www.w3.org/2000/svg\" height=\"24px\"viewBox=\"0 0 24 24\"\n",
              "     width=\"24px\">\n",
              "    <g>\n",
              "        <path d=\"M19 3H5c-1.1 0-2 .9-2 2v14c0 1.1.9 2 2 2h14c1.1 0 2-.9 2-2V5c0-1.1-.9-2-2-2zM9 17H7v-7h2v7zm4 0h-2V7h2v10zm4 0h-2v-4h2v4z\"/>\n",
              "    </g>\n",
              "</svg>\n",
              "  </button>\n",
              "\n",
              "<style>\n",
              "  .colab-df-quickchart {\n",
              "      --bg-color: #E8F0FE;\n",
              "      --fill-color: #1967D2;\n",
              "      --hover-bg-color: #E2EBFA;\n",
              "      --hover-fill-color: #174EA6;\n",
              "      --disabled-fill-color: #AAA;\n",
              "      --disabled-bg-color: #DDD;\n",
              "  }\n",
              "\n",
              "  [theme=dark] .colab-df-quickchart {\n",
              "      --bg-color: #3B4455;\n",
              "      --fill-color: #D2E3FC;\n",
              "      --hover-bg-color: #434B5C;\n",
              "      --hover-fill-color: #FFFFFF;\n",
              "      --disabled-bg-color: #3B4455;\n",
              "      --disabled-fill-color: #666;\n",
              "  }\n",
              "\n",
              "  .colab-df-quickchart {\n",
              "    background-color: var(--bg-color);\n",
              "    border: none;\n",
              "    border-radius: 50%;\n",
              "    cursor: pointer;\n",
              "    display: none;\n",
              "    fill: var(--fill-color);\n",
              "    height: 32px;\n",
              "    padding: 0;\n",
              "    width: 32px;\n",
              "  }\n",
              "\n",
              "  .colab-df-quickchart:hover {\n",
              "    background-color: var(--hover-bg-color);\n",
              "    box-shadow: 0 1px 2px rgba(60, 64, 67, 0.3), 0 1px 3px 1px rgba(60, 64, 67, 0.15);\n",
              "    fill: var(--button-hover-fill-color);\n",
              "  }\n",
              "\n",
              "  .colab-df-quickchart-complete:disabled,\n",
              "  .colab-df-quickchart-complete:disabled:hover {\n",
              "    background-color: var(--disabled-bg-color);\n",
              "    fill: var(--disabled-fill-color);\n",
              "    box-shadow: none;\n",
              "  }\n",
              "\n",
              "  .colab-df-spinner {\n",
              "    border: 2px solid var(--fill-color);\n",
              "    border-color: transparent;\n",
              "    border-bottom-color: var(--fill-color);\n",
              "    animation:\n",
              "      spin 1s steps(1) infinite;\n",
              "  }\n",
              "\n",
              "  @keyframes spin {\n",
              "    0% {\n",
              "      border-color: transparent;\n",
              "      border-bottom-color: var(--fill-color);\n",
              "      border-left-color: var(--fill-color);\n",
              "    }\n",
              "    20% {\n",
              "      border-color: transparent;\n",
              "      border-left-color: var(--fill-color);\n",
              "      border-top-color: var(--fill-color);\n",
              "    }\n",
              "    30% {\n",
              "      border-color: transparent;\n",
              "      border-left-color: var(--fill-color);\n",
              "      border-top-color: var(--fill-color);\n",
              "      border-right-color: var(--fill-color);\n",
              "    }\n",
              "    40% {\n",
              "      border-color: transparent;\n",
              "      border-right-color: var(--fill-color);\n",
              "      border-top-color: var(--fill-color);\n",
              "    }\n",
              "    60% {\n",
              "      border-color: transparent;\n",
              "      border-right-color: var(--fill-color);\n",
              "    }\n",
              "    80% {\n",
              "      border-color: transparent;\n",
              "      border-right-color: var(--fill-color);\n",
              "      border-bottom-color: var(--fill-color);\n",
              "    }\n",
              "    90% {\n",
              "      border-color: transparent;\n",
              "      border-bottom-color: var(--fill-color);\n",
              "    }\n",
              "  }\n",
              "</style>\n",
              "\n",
              "  <script>\n",
              "    async function quickchart(key) {\n",
              "      const quickchartButtonEl =\n",
              "        document.querySelector('#' + key + ' button');\n",
              "      quickchartButtonEl.disabled = true;  // To prevent multiple clicks.\n",
              "      quickchartButtonEl.classList.add('colab-df-spinner');\n",
              "      try {\n",
              "        const charts = await google.colab.kernel.invokeFunction(\n",
              "            'suggestCharts', [key], {});\n",
              "      } catch (error) {\n",
              "        console.error('Error during call to suggestCharts:', error);\n",
              "      }\n",
              "      quickchartButtonEl.classList.remove('colab-df-spinner');\n",
              "      quickchartButtonEl.classList.add('colab-df-quickchart-complete');\n",
              "    }\n",
              "    (() => {\n",
              "      let quickchartButtonEl =\n",
              "        document.querySelector('#df-ee3888ec-6cd5-4cfd-b590-b58e0216673a button');\n",
              "      quickchartButtonEl.style.display =\n",
              "        google.colab.kernel.accessAllowed ? 'block' : 'none';\n",
              "    })();\n",
              "  </script>\n",
              "</div>\n",
              "\n",
              "    </div>\n",
              "  </div>\n"
            ],
            "application/vnd.google.colaboratory.intrinsic+json": {
              "type": "dataframe",
              "variable_name": "data"
            }
          },
          "metadata": {},
          "execution_count": 1
        }
      ],
      "source": [
        "import pandas as pd\n",
        "\n",
        "url = 'https://raw.githubusercontent.com/lpoly/public_data/refs/heads/main/hartford_police_data.csv'\n",
        "\n",
        "# Load data from CSV\n",
        "data = pd.read_csv(url)\n",
        "data.head()"
      ]
    },
    {
      "cell_type": "markdown",
      "source": [
        "## Examples of EDA"
      ],
      "metadata": {
        "id": "Xp9UzbgA10p5"
      }
    },
    {
      "cell_type": "markdown",
      "source": [
        "A visualization of the trend of traffic stops in Hartford, CT, from October 2013 to September 2016. The plot shows the daily counts of traffic stops over time, allowing us to analyze patterns, seasonal trends, or anomalies."
      ],
      "metadata": {
        "id": "zBvf9qfJ3fyR"
      }
    },
    {
      "cell_type": "code",
      "source": [
        "import matplotlib.pyplot as plt\n",
        "\n",
        "# Convert 'date' column to datetime\n",
        "data['date'] = pd.to_datetime(data['date'], errors='coerce')\n",
        "\n",
        "# Group by date to count the number of stops per day\n",
        "daily_stops = data.groupby('date').size()\n",
        "\n",
        "# Plot the trend over time\n",
        "plt.figure(figsize=(12, 6))\n",
        "plt.plot(daily_stops.index, daily_stops.values, label='Daily Traffic Stops', color='blue', alpha=0.7)\n",
        "plt.xlabel('Date')\n",
        "plt.ylabel('Number of Traffic Stops')\n",
        "plt.title('Traffic Stops Trend Over Time in Hartford, CT (2013-2016)')\n",
        "plt.legend()\n",
        "plt.show()"
      ],
      "metadata": {
        "colab": {
          "base_uri": "https://localhost:8080/",
          "height": 564
        },
        "id": "gTt2WqLB3ZvN",
        "outputId": "275366fc-ff4d-4552-e9a6-eafc88a39eb5"
      },
      "execution_count": 2,
      "outputs": [
        {
          "output_type": "display_data",
          "data": {
            "text/plain": [
              "<Figure size 1200x600 with 1 Axes>"
            ],
            "image/png": "[encoded data removed]"
          },
          "metadata": {}
        }
      ]
    },
    {
      "cell_type": "code",
      "source": [
        "# Zoom in on the spike around spring 2015\n",
        "spring_2015 = daily_stops['2015-03':'2015-06']\n",
        "\n",
        "# Plot the spike in traffic stops\n",
        "plt.figure(figsize=(12, 6))\n",
        "plt.plot(spring_2015.index, spring_2015.values, label='Traffic Stops (Spring 2015)', color='red', alpha=0.7)\n",
        "plt.xlabel('Date')\n",
        "plt.ylabel('Number of Traffic Stops')\n",
        "plt.title('Traffic Stops Spike in Spring 2015')\n",
        "plt.legend()\n",
        "plt.show()\n",
        "\n",
        "# Checking the top dates with the highest number of stops\n",
        "spring_2015.sort_values(ascending=False).head(10)"
      ],
      "metadata": {
        "colab": {
          "base_uri": "https://localhost:8080/",
          "height": 976
        },
        "id": "yX-Qd_3R3qlC",
        "outputId": "452950f5-78d6-43f3-9415-3866e75b35c2"
      },
      "execution_count": 3,
      "outputs": [
        {
          "output_type": "display_data",
          "data": {
            "text/plain": [
              "<Figure size 1200x600 with 1 Axes>"
            ],
            "image/png": "[encoded data removed]"
          },
          "metadata": {}
        },
        {
          "output_type": "execute_result",
          "data": {
            "text/plain": [
              "date\n",
              "2015-04-01    161\n",
              "2015-04-10    130\n",
              "2015-04-15    101\n",
              "2015-04-27     97\n",
              "2015-04-29     88\n",
              "2015-04-13     88\n",
              "2015-04-02     84\n",
              "2015-04-16     72\n",
              "2015-04-20     65\n",
              "2015-04-14     64\n",
              "dtype: int64"
            ],
            "text/html": [
              "<div>\n",
              "<style scoped>\n",
              "    .dataframe tbody tr th:only-of-type {\n",
              "        vertical-align: middle;\n",
              "    }\n",
              "\n",
              "    .dataframe tbody tr th {\n",
              "        vertical-align: top;\n",
              "    }\n",
              "\n",
              "    .dataframe thead th {\n",
              "        text-align: right;\n",
              "    }\n",
              "</style>\n",
              "<table border=\"1\" class=\"dataframe\">\n",
              "  <thead>\n",
              "    <tr style=\"text-align: right;\">\n",
              "      <th></th>\n",
              "      <th>0</th>\n",
              "    </tr>\n",
              "    <tr>\n",
              "      <th>date</th>\n",
              "      <th></th>\n",
              "    </tr>\n",
              "  </thead>\n",
              "  <tbody>\n",
              "    <tr>\n",
              "      <th>2015-04-01</th>\n",
              "      <td>161</td>\n",
              "    </tr>\n",
              "    <tr>\n",
              "      <th>2015-04-10</th>\n",
              "      <td>130</td>\n",
              "    </tr>\n",
              "    <tr>\n",
              "      <th>2015-04-15</th>\n",
              "      <td>101</td>\n",
              "    </tr>\n",
              "    <tr>\n",
              "      <th>2015-04-27</th>\n",
              "      <td>97</td>\n",
              "    </tr>\n",
              "    <tr>\n",
              "      <th>2015-04-29</th>\n",
              "      <td>88</td>\n",
              "    </tr>\n",
              "    <tr>\n",
              "      <th>2015-04-13</th>\n",
              "      <td>88</td>\n",
              "    </tr>\n",
              "    <tr>\n",
              "      <th>2015-04-02</th>\n",
              "      <td>84</td>\n",
              "    </tr>\n",
              "    <tr>\n",
              "      <th>2015-04-16</th>\n",
              "      <td>72</td>\n",
              "    </tr>\n",
              "    <tr>\n",
              "      <th>2015-04-20</th>\n",
              "      <td>65</td>\n",
              "    </tr>\n",
              "    <tr>\n",
              "      <th>2015-04-14</th>\n",
              "      <td>64</td>\n",
              "    </tr>\n",
              "  </tbody>\n",
              "</table>\n",
              "</div><br><label><b>dtype:</b> int64</label>"
            ]
          },
          "metadata": {},
          "execution_count": 3
        }
      ]
    },
    {
      "cell_type": "markdown",
      "source": [
        "The spike in traffic stops in Spring 2015 appears to be concentrated around April, with April 1st having the highest number of stops (161), followed by several other high-count days throughout the month. We can search factors responsible for this increase with a quick [google search](https://portal.ct.gov/dot/ctdot-press-releases/2015/connecticut-law-enforcement-to-begin-major-crackdown-on-texting-while-driving?language=en_US).\n",
        "\n",
        "\n"
      ],
      "metadata": {
        "id": "GMbRX2K435L1"
      }
    },
    {
      "cell_type": "code",
      "source": [
        "import folium\n",
        "from folium.plugins import MarkerCluster\n",
        "\n",
        "if 'lat' in data.columns and 'lng' in data.columns:\n",
        "    # Create a base map centered around Hartford, CT\n",
        "    hartford_map = folium.Map(location=[41.7658, -72.6734], zoom_start=12)\n",
        "\n",
        "    marker_cluster = MarkerCluster().add_to(hartford_map)\n",
        "\n",
        "    # Add points to the map\n",
        "    for _, row in data.dropna(subset=['lat', 'lng']).iterrows():\n",
        "        folium.Marker(\n",
        "            location=[row['lat'], row['lng']],\n",
        "            popup=f\"Citation issued: {row['citation_issued']}\",\n",
        "            icon=folium.Icon(color=\"blue\", icon=\"info-sign\")\n",
        "        ).add_to(marker_cluster)"
      ],
      "metadata": {
        "id": "5R6wwLzdGnxL"
      },
      "execution_count": null,
      "outputs": []
    },
    {
      "cell_type": "code",
      "source": [
        "hartford_map"
      ],
      "metadata": {
        "id": "GHuFta36GqwJ"
      },
      "execution_count": null,
      "outputs": []
    },
    {
      "cell_type": "markdown",
      "source": [
        "## Temporal Analysis"
      ],
      "metadata": {
        "id": "lseaVyp8445e"
      }
    },
    {
      "cell_type": "markdown",
      "source": [
        "#### 1. Traffic Stops by Day of the Week\n",
        "- Extract the **day of the week** from the `date` column.\n",
        "- Count the number of stops for each day.\n",
        "- Plot a **bar chart** where:\n",
        "  - The x-axis represents the **days of the week** (ordered from Monday to Sunday).\n",
        "  - The y-axis represents the **number of traffic stops**.\n",
        "  - The title of the plot should be **\"Traffic Stops by Day of the Week\"**.\n",
        "  - Rotate the x-axis labels for readability."
      ],
      "metadata": {
        "id": "TCTmaDAF5Y5V"
      }
    },
    {
      "cell_type": "code",
      "source": [
        "##################\n",
        "# YOUR CODE HERE #\n",
        "##################"
      ],
      "metadata": {
        "id": "jFcH1xdD-eGS"
      },
      "execution_count": 6,
      "outputs": []
    },
    {
      "cell_type": "markdown",
      "source": [
        "#### 2. Traffic Stops Heatmap (Hour vs. Day of the Week)\n",
        "- Extract the **hour** from the `time` column.\n",
        "- Create a **heatmap** where:\n",
        "  - The x-axis represents the **hours of the day** (0-23).\n",
        "  - The y-axis represents the **days of the week** (ordered from Monday to Sunday).\n",
        "  - The color intensity represents the **number of traffic stops**.\n",
        "  - Use an appropriate colormap (e.g., `\"YlGnBu\"`) to visualize the frequency.\n",
        "  - Set an informative title: **\"Traffic Stops Heatmap (Hour vs. Day of the Week)\"**."
      ],
      "metadata": {
        "id": "IKelc37U5fZk"
      }
    },
    {
      "cell_type": "code",
      "source": [
        "##################\n",
        "# YOUR CODE HERE #\n",
        "##################"
      ],
      "metadata": {
        "id": "hf1rFqXh5E2u"
      },
      "execution_count": 7,
      "outputs": []
    },
    {
      "cell_type": "markdown",
      "source": [
        "## Demographic Analysis"
      ],
      "metadata": {
        "id": "OmFNeLNe5qkW"
      }
    },
    {
      "cell_type": "markdown",
      "source": [
        "#### 1. Traffic Stops by Race and Gender\n",
        "- Extract the **subject_race** and **subject_sex** columns.\n",
        "- Count the number of stops for each racial group, separated by gender.\n",
        "- Create a **bar chart** where:\n",
        "  - The x-axis represents **race**.\n",
        "  - The y-axis represents **number of stops**.\n",
        "  - Different bar colors distinguish between **male and female**.\n",
        "  - Use an appropriate title: **\"Traffic Stops by Race and Gender\"**."
      ],
      "metadata": {
        "id": "6akaWE7QEiuD"
      }
    },
    {
      "cell_type": "code",
      "source": [
        "##################\n",
        "# YOUR CODE HERE #\n",
        "##################"
      ],
      "metadata": {
        "id": "0b1D68P65poO"
      },
      "execution_count": 8,
      "outputs": []
    },
    {
      "cell_type": "markdown",
      "source": [
        "#### 2. Traffic Stop Outcomes by Race\n",
        "- Extract the **subject_race** and **outcome** columns.\n",
        "- Plot a **stacked histogram** where:\n",
        "  - The x-axis represents **race**.\n",
        "  - The y-axis represents **number of stops**.\n",
        "  - The different colors represent **outcome categories** (citation, warning, arrest).\n",
        "  - Use an appropriate title: **\"Traffic Stop Outcomes by Race\"**."
      ],
      "metadata": {
        "id": "2g6x3KSHEnvQ"
      }
    },
    {
      "cell_type": "code",
      "source": [
        "##################\n",
        "# YOUR CODE HERE #\n",
        "##################"
      ],
      "metadata": {
        "id": "eHRWqmxT57TO"
      },
      "execution_count": 9,
      "outputs": []
    },
    {
      "cell_type": "markdown",
      "source": [
        "#### 3. Age Distribution of Stopped Individuals\n",
        "- Extract the **subject_age** column.\n",
        "- Plot a **histogram** where:\n",
        "  - The x-axis represents **age**.\n",
        "  - The y-axis represents **number of stops**.\n",
        "  - Include a **Kernel Density Estimate (KDE)** to show the distribution trend.\n",
        "  - Use an appropriate title: **\"Age Distribution of Stopped Individuals\"**.\n"
      ],
      "metadata": {
        "id": "dXwgr9-NEoHw"
      }
    },
    {
      "cell_type": "code",
      "source": [
        "##################\n",
        "# YOUR CODE HERE #\n",
        "##################"
      ],
      "metadata": {
        "id": "W5f6f1yYEoqn"
      },
      "execution_count": 10,
      "outputs": []
    },
    {
      "cell_type": "markdown",
      "source": [
        "- Plot a **boxplot** of the age distribution."
      ],
      "metadata": {
        "id": "QJWD77owICJ8"
      }
    },
    {
      "cell_type": "code",
      "source": [
        "##################\n",
        "# YOUR CODE HERE #\n",
        "##################"
      ],
      "metadata": {
        "id": "X2DF2hy9HLdy"
      },
      "execution_count": 11,
      "outputs": []
    },
    {
      "cell_type": "markdown",
      "source": [
        "- Plot a **violinplot** of the age distribution."
      ],
      "metadata": {
        "id": "oignUUjQIExV"
      }
    },
    {
      "cell_type": "code",
      "source": [
        "##################\n",
        "# YOUR CODE HERE #\n",
        "##################"
      ],
      "metadata": {
        "id": "iPpiUavSIGgz"
      },
      "execution_count": 12,
      "outputs": []
    },
    {
      "cell_type": "markdown",
      "source": [
        "- Report mean, median, min, max, standard deviation"
      ],
      "metadata": {
        "id": "Fg-SHw_RILaT"
      }
    },
    {
      "cell_type": "code",
      "source": [
        "##################\n",
        "# YOUR CODE HERE #\n",
        "##################"
      ],
      "metadata": {
        "id": "nFKSQgGdJOn2"
      },
      "execution_count": 13,
      "outputs": []
    },
    {
      "cell_type": "markdown",
      "source": [
        "#### 4. Traffic Stops by Race and Gender\n",
        "- Extract the **subject_race** and **subject_sex** columns.\n",
        "- Count the number of stops for each racial group, separated by gender.\n",
        "- Create a **bar chart** where:\n",
        "  - The x-axis represents **race**.\n",
        "  - The y-axis represents **number of stops**.\n",
        "  - Different bar colors distinguish between **male and female**.\n",
        "  - Use an appropriate title: **\"Traffic Stops by Race and Gender\"**."
      ],
      "metadata": {
        "id": "ozd5uR0sIpvX"
      }
    },
    {
      "cell_type": "code",
      "source": [
        "##################\n",
        "# YOUR CODE HERE #\n",
        "##################"
      ],
      "metadata": {
        "id": "E2NMc82gFu9c"
      },
      "execution_count": 14,
      "outputs": []
    },
    {
      "cell_type": "markdown",
      "source": [
        "# Part b: MLE"
      ],
      "metadata": {
        "id": "cm0y76pF3y7A"
      }
    },
    {
      "cell_type": "markdown",
      "source": [
        "Use the [sklearn Breast Cancer Dataset](https://scikit-learn.org/stable/modules/generated/sklearn.datasets.load_breast_cancer.html) and pick a feature to analyze that you think is likely to be generated from an underlying Gaussian. That means you will be assuming that the distribution of the feature you choose is coming from a Gaussian parametrized by the vector:\n",
        "\n",
        "\\begin{equation}\n",
        "\\vec{\\theta} = [\\mu, \\sigma]\n",
        "\\end{equation}"
      ],
      "metadata": {
        "id": "Qs3Srnfi37Rl"
      }
    },
    {
      "cell_type": "code",
      "source": [
        "##################\n",
        "# YOUR CODE HERE #\n",
        "##################"
      ],
      "metadata": {
        "id": "5TuKLl5931Qr"
      },
      "execution_count": 15,
      "outputs": []
    },
    {
      "cell_type": "markdown",
      "source": [
        "Approximate the parameters of the $\\theta$ vector by minimizing the negative log-likelihood function using Gradient Descent and compare your results. Anallytically compute the derivative. Include your calculations in a markdown cell using $\\LaTeX$."
      ],
      "metadata": {
        "id": "T_e0_NJx4zum"
      }
    },
    {
      "cell_type": "code",
      "source": [
        "##################\n",
        "# YOUR CODE HERE #\n",
        "##################"
      ],
      "metadata": {
        "id": "ReX-0kqC5BDI"
      },
      "execution_count": 16,
      "outputs": []
    }
  ]
}