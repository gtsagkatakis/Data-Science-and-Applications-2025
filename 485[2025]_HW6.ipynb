{
  "nbformat": 4,
  "nbformat_minor": 0,
  "metadata": {
    "colab": {
      "provenance": [],
      "include_colab_link": true
    },
    "kernelspec": {
      "name": "python3",
      "display_name": "Python 3"
    },
    "language_info": {
      "name": "python"
    }
  },
  "cells": [
    {
      "cell_type": "markdown",
      "metadata": {
        "id": "view-in-github",
        "colab_type": "text"
      },
      "source": [
        "<a href=\"https://colab.research.google.com/github/gtsagkatakis/Data-Science-and-Applications-2025/blob/main/485%5B2025%5D_HW6.ipynb\" target=\"_parent\"><img src=\"https://colab.research.google.com/assets/colab-badge.svg\" alt=\"Open In Colab\"/></a>"
      ]
    },
    {
      "cell_type": "markdown",
      "source": [
        "Classifying MNIST using Multi-Layer Perceptron (MLP)"
      ],
      "metadata": {
        "id": "oFekMF3jeT26"
      }
    },
    {
      "cell_type": "code",
      "execution_count": null,
      "metadata": {
        "id": "8h4XFBZheK6g"
      },
      "outputs": [],
      "source": [
        "import tensorflow as tf\n",
        "from tensorflow.keras import layers, models\n",
        "from tensorflow.keras.datasets import mnist\n",
        "from tensorflow.keras.utils import to_categorical\n",
        "import matplotlib.pyplot as plt\n",
        "\n",
        "# Load and preprocess the MNIST dataset\n",
        "(train_images, train_labels), (test_images, test_labels) = mnist.load_data()\n",
        "\n",
        "train_images = train_images.reshape((60000, 28, 28, 1)).astype('float32') / 255\n",
        "test_images = test_images.reshape((10000, 28, 28, 1)).astype('float32') / 255\n",
        "\n",
        "train_labels = to_categorical(train_labels)\n",
        "test_labels = to_categorical(test_labels)"
      ]
    },
    {
      "cell_type": "markdown",
      "source": [
        "#Build an MLP model"
      ],
      "metadata": {
        "id": "x5Ukvxsiec0J"
      }
    },
    {
      "cell_type": "code",
      "source": [],
      "metadata": {
        "id": "DvD9XBABefHw"
      },
      "execution_count": null,
      "outputs": []
    },
    {
      "cell_type": "markdown",
      "source": [
        "#Compile the model, choose optimizer, loss and metrics"
      ],
      "metadata": {
        "id": "NWkfaDLyeffA"
      }
    },
    {
      "cell_type": "code",
      "source": [],
      "metadata": {
        "id": "bWC9bLpreizZ"
      },
      "execution_count": null,
      "outputs": []
    },
    {
      "cell_type": "markdown",
      "source": [
        "#Train the model and save the history. Define epochs, batch_size and validation_split"
      ],
      "metadata": {
        "id": "cAIWD5CMejlI"
      }
    },
    {
      "cell_type": "code",
      "source": [],
      "metadata": {
        "id": "kSIiHifven7B"
      },
      "execution_count": null,
      "outputs": []
    },
    {
      "cell_type": "markdown",
      "source": [
        "#Plot training & validation accuracy values and loss values per epoch"
      ],
      "metadata": {
        "id": "PwBO6Clyeoh4"
      }
    },
    {
      "cell_type": "code",
      "source": [],
      "metadata": {
        "id": "HqFI1GDLeriR"
      },
      "execution_count": null,
      "outputs": []
    },
    {
      "cell_type": "markdown",
      "source": [
        "#Evaluate the model on the test set and report test accuracy"
      ],
      "metadata": {
        "id": "0feEaJb9es_h"
      }
    },
    {
      "cell_type": "code",
      "source": [],
      "metadata": {
        "id": "qgSp4d8CewnJ"
      },
      "execution_count": null,
      "outputs": []
    },
    {
      "cell_type": "markdown",
      "source": [
        "#Explore the impact of different hyper-parameters e.g. number of hidden layers on training and testing performance"
      ],
      "metadata": {
        "id": "HiVsnlHCezEo"
      }
    },
    {
      "cell_type": "code",
      "source": [],
      "metadata": {
        "id": "MKBud_7Se0cZ"
      },
      "execution_count": null,
      "outputs": []
    },
    {
      "cell_type": "markdown",
      "source": [
        "#Explore the impact of training set size on training and testing performance (keep the same testing set while varying the training set)"
      ],
      "metadata": {
        "id": "lJt4vbJ0e02p"
      }
    },
    {
      "cell_type": "code",
      "source": [],
      "metadata": {
        "id": "iIMRM_gNe38Y"
      },
      "execution_count": null,
      "outputs": []
    }
  ]
}